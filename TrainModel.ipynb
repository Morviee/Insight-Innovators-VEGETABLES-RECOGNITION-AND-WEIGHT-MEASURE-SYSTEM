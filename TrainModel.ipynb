{
  "nbformat": 4,
  "nbformat_minor": 0,
  "metadata": {
    "colab": {
      "provenance": []
    },
    "kernelspec": {
      "name": "python3",
      "display_name": "Python 3"
    },
    "language_info": {
      "name": "python"
    }
  },
  "cells": [
    {
      "cell_type": "code",
      "execution_count": null,
      "metadata": {
        "colab": {
          "base_uri": "https://localhost:8080/"
        },
        "id": "8iOIiJdM7C6i",
        "outputId": "0bde0f89-da29-4389-b628-192ac9bda4fb"
      },
      "outputs": [
        {
          "output_type": "stream",
          "name": "stdout",
          "text": [
            "Drive already mounted at /content/drive; to attempt to forcibly remount, call drive.mount(\"/content/drive\", force_remount=True).\n"
          ]
        }
      ],
      "source": [
        "from google.colab import drive\n",
        "drive.mount('/content/drive')"
      ]
    },
    {
      "cell_type": "code",
      "source": [
        "import tensorflow as tf\n",
        "import matplotlib.pyplot as plt"
      ],
      "metadata": {
        "id": "nYhxnekW-nes"
      },
      "execution_count": null,
      "outputs": []
    },
    {
      "cell_type": "code",
      "source": [
        "training_set = tf.keras.utils.image_dataset_from_directory(\n",
        "    '/content/drive/MyDrive/Vegetable Images/train',\n",
        "    labels=\"inferred\",\n",
        "    label_mode=\"categorical\",\n",
        "    class_names=None,\n",
        "    color_mode=\"rgb\",\n",
        "    batch_size=40,\n",
        "    image_size=(64, 64),\n",
        "    shuffle=True,\n",
        "    seed=None,\n",
        "    validation_split=None,\n",
        "    subset=None,\n",
        "    interpolation=\"bilinear\",\n",
        "    follow_links=False,\n",
        "    crop_to_aspect_ratio=False\n",
        ")"
      ],
      "metadata": {
        "colab": {
          "base_uri": "https://localhost:8080/"
        },
        "id": "weeT19FY-q8j",
        "outputId": "9dfbdcf6-6208-4fc2-b170-771d57283ed6"
      },
      "execution_count": null,
      "outputs": [
        {
          "output_type": "stream",
          "name": "stdout",
          "text": [
            "Found 15000 files belonging to 15 classes.\n"
          ]
        }
      ]
    },
    {
      "cell_type": "code",
      "source": [
        "validation_set = tf.keras.utils.image_dataset_from_directory(\n",
        "    '/content/drive/MyDrive/Vegetable Images/validation',\n",
        "    labels=\"inferred\",\n",
        "    label_mode=\"categorical\",\n",
        "    class_names=None,\n",
        "    color_mode=\"rgb\",\n",
        "    batch_size=40,\n",
        "    image_size=(64, 64),\n",
        "    shuffle=True,\n",
        "    seed=None,\n",
        "    validation_split=None,\n",
        "    subset=None,\n",
        "    interpolation=\"bilinear\",\n",
        "    follow_links=False,\n",
        "    crop_to_aspect_ratio=False\n",
        ")"
      ],
      "metadata": {
        "colab": {
          "base_uri": "https://localhost:8080/"
        },
        "id": "5MHgh463-ty7",
        "outputId": "765a38fa-3edd-4dc3-e05f-10f5479985ce"
      },
      "execution_count": null,
      "outputs": [
        {
          "output_type": "stream",
          "name": "stdout",
          "text": [
            "Found 1802 files belonging to 15 classes.\n"
          ]
        }
      ]
    },
    {
      "cell_type": "code",
      "source": [
        "cnn = tf.keras.models.Sequential()"
      ],
      "metadata": {
        "id": "1GMlEY2R_ASL"
      },
      "execution_count": null,
      "outputs": []
    },
    {
      "cell_type": "code",
      "source": [
        "cnn.add(tf.keras.layers.Conv2D(filters=32,kernel_size=3,padding='same',activation='relu',input_shape=[64,64,3]))\n",
        "cnn.add(tf.keras.layers.Conv2D(filters=32,kernel_size=3,activation='relu'))\n",
        "cnn.add(tf.keras.layers.MaxPool2D(pool_size=2,strides=2))"
      ],
      "metadata": {
        "id": "wVjvrx7j_aDB"
      },
      "execution_count": null,
      "outputs": []
    },
    {
      "cell_type": "code",
      "source": [
        "cnn.add(tf.keras.layers.Dropout(0.25))"
      ],
      "metadata": {
        "id": "YMZryQgR_eEF"
      },
      "execution_count": null,
      "outputs": []
    },
    {
      "cell_type": "code",
      "source": [
        "cnn.add(tf.keras.layers.Conv2D(filters=64,kernel_size=3,padding='same',activation='relu'))\n",
        "cnn.add(tf.keras.layers.Conv2D(filters=64,kernel_size=3,activation='relu'))\n",
        "cnn.add(tf.keras.layers.MaxPool2D(pool_size=2,strides=2))\n"
      ],
      "metadata": {
        "id": "ONOwAyL4_hUE"
      },
      "execution_count": null,
      "outputs": []
    },
    {
      "cell_type": "code",
      "source": [
        "cnn.add(tf.keras.layers.Dropout(0.25))"
      ],
      "metadata": {
        "id": "G461qND9_izp"
      },
      "execution_count": null,
      "outputs": []
    },
    {
      "cell_type": "code",
      "source": [
        "cnn.add(tf.keras.layers.Flatten())"
      ],
      "metadata": {
        "id": "Il93q6CV_md6"
      },
      "execution_count": null,
      "outputs": []
    },
    {
      "cell_type": "code",
      "source": [
        "cnn.add(tf.keras.layers.Dense(units=512,activation='relu'))"
      ],
      "metadata": {
        "id": "FuUQ218w_pRp"
      },
      "execution_count": null,
      "outputs": []
    },
    {
      "cell_type": "code",
      "source": [
        "cnn.add(tf.keras.layers.Dense(units=256,activation='relu'))"
      ],
      "metadata": {
        "id": "NB0NQWQ1_sPE"
      },
      "execution_count": null,
      "outputs": []
    },
    {
      "cell_type": "code",
      "source": [
        "cnn.add(tf.keras.layers.Dropout(0.5))"
      ],
      "metadata": {
        "id": "g8L2tCL9_t2x"
      },
      "execution_count": null,
      "outputs": []
    },
    {
      "cell_type": "code",
      "source": [
        "cnn.add(tf.keras.layers.Dense(units=15,activation='softmax'))"
      ],
      "metadata": {
        "id": "mMXvhhO-_xI5"
      },
      "execution_count": null,
      "outputs": []
    },
    {
      "cell_type": "code",
      "source": [
        "cnn.compile(optimizer='adam',loss='categorical_crossentropy',metrics=['accuracy'])"
      ],
      "metadata": {
        "id": "D7JPx61-_yKz"
      },
      "execution_count": null,
      "outputs": []
    },
    {
      "cell_type": "code",
      "source": [
        "cnn.summary()"
      ],
      "metadata": {
        "colab": {
          "base_uri": "https://localhost:8080/"
        },
        "id": "xhRcFj4r_1ny",
        "outputId": "aa37bb75-9218-4df6-aa97-cb3eccc71abe"
      },
      "execution_count": null,
      "outputs": [
        {
          "output_type": "stream",
          "name": "stdout",
          "text": [
            "Model: \"sequential_2\"\n",
            "_________________________________________________________________\n",
            " Layer (type)                Output Shape              Param #   \n",
            "=================================================================\n",
            " conv2d_8 (Conv2D)           (None, 64, 64, 32)        896       \n",
            "                                                                 \n",
            " conv2d_9 (Conv2D)           (None, 62, 62, 32)        9248      \n",
            "                                                                 \n",
            " max_pooling2d_4 (MaxPoolin  (None, 31, 31, 32)        0         \n",
            " g2D)                                                            \n",
            "                                                                 \n",
            " dropout_6 (Dropout)         (None, 31, 31, 32)        0         \n",
            "                                                                 \n",
            " conv2d_10 (Conv2D)          (None, 31, 31, 64)        18496     \n",
            "                                                                 \n",
            " conv2d_11 (Conv2D)          (None, 29, 29, 64)        36928     \n",
            "                                                                 \n",
            " max_pooling2d_5 (MaxPoolin  (None, 14, 14, 64)        0         \n",
            " g2D)                                                            \n",
            "                                                                 \n",
            " dropout_7 (Dropout)         (None, 14, 14, 64)        0         \n",
            "                                                                 \n",
            " flatten_2 (Flatten)         (None, 12544)             0         \n",
            "                                                                 \n",
            " dense_6 (Dense)             (None, 512)               6423040   \n",
            "                                                                 \n",
            " dense_7 (Dense)             (None, 256)               131328    \n",
            "                                                                 \n",
            " dropout_8 (Dropout)         (None, 256)               0         \n",
            "                                                                 \n",
            " dense_8 (Dense)             (None, 15)                3855      \n",
            "                                                                 \n",
            "=================================================================\n",
            "Total params: 6623791 (25.27 MB)\n",
            "Trainable params: 6623791 (25.27 MB)\n",
            "Non-trainable params: 0 (0.00 Byte)\n",
            "_________________________________________________________________\n"
          ]
        }
      ]
    },
    {
      "cell_type": "code",
      "source": [
        "training_history = cnn.fit(x=training_set,validation_data=validation_set,epochs=32)"
      ],
      "metadata": {
        "colab": {
          "base_uri": "https://localhost:8080/"
        },
        "id": "q2NtC6XQABlj",
        "outputId": "70d54890-3b5f-4389-8acc-4db889386170"
      },
      "execution_count": null,
      "outputs": [
        {
          "output_type": "stream",
          "name": "stdout",
          "text": [
            "Epoch 1/32\n",
            "375/375 [==============================] - 3148s 8s/step - loss: 2.1433 - accuracy: 0.4808 - val_loss: 0.6634 - val_accuracy: 0.7825\n",
            "Epoch 2/32\n",
            "375/375 [==============================] - 191s 507ms/step - loss: 0.7768 - accuracy: 0.7508 - val_loss: 0.5430 - val_accuracy: 0.8263\n",
            "Epoch 3/32\n",
            "375/375 [==============================] - 193s 514ms/step - loss: 0.4532 - accuracy: 0.8590 - val_loss: 0.2453 - val_accuracy: 0.9179\n",
            "Epoch 4/32\n",
            "375/375 [==============================] - 201s 533ms/step - loss: 0.3577 - accuracy: 0.8908 - val_loss: 0.2406 - val_accuracy: 0.9245\n",
            "Epoch 5/32\n",
            "375/375 [==============================] - 198s 525ms/step - loss: 0.2604 - accuracy: 0.9212 - val_loss: 0.3465 - val_accuracy: 0.9023\n",
            "Epoch 6/32\n",
            "375/375 [==============================] - 194s 515ms/step - loss: 0.2092 - accuracy: 0.9359 - val_loss: 0.1632 - val_accuracy: 0.9473\n",
            "Epoch 7/32\n",
            "375/375 [==============================] - 195s 518ms/step - loss: 0.2049 - accuracy: 0.9412 - val_loss: 0.3078 - val_accuracy: 0.9090\n",
            "Epoch 8/32\n",
            "375/375 [==============================] - 194s 514ms/step - loss: 0.1701 - accuracy: 0.9505 - val_loss: 0.2385 - val_accuracy: 0.9290\n",
            "Epoch 9/32\n",
            "375/375 [==============================] - 193s 512ms/step - loss: 0.1446 - accuracy: 0.9593 - val_loss: 0.2221 - val_accuracy: 0.9417\n",
            "Epoch 10/32\n",
            "375/375 [==============================] - 194s 514ms/step - loss: 0.1683 - accuracy: 0.9530 - val_loss: 0.1721 - val_accuracy: 0.9606\n",
            "Epoch 11/32\n",
            "375/375 [==============================] - 191s 507ms/step - loss: 0.1391 - accuracy: 0.9635 - val_loss: 0.4099 - val_accuracy: 0.9034\n",
            "Epoch 12/32\n",
            "375/375 [==============================] - 190s 506ms/step - loss: 0.1362 - accuracy: 0.9607 - val_loss: 0.2705 - val_accuracy: 0.9334\n",
            "Epoch 13/32\n",
            "375/375 [==============================] - 191s 508ms/step - loss: 0.1231 - accuracy: 0.9655 - val_loss: 0.2708 - val_accuracy: 0.9340\n",
            "Epoch 14/32\n",
            "375/375 [==============================] - 200s 532ms/step - loss: 0.1285 - accuracy: 0.9643 - val_loss: 0.1723 - val_accuracy: 0.9606\n",
            "Epoch 15/32\n",
            "375/375 [==============================] - 196s 519ms/step - loss: 0.1060 - accuracy: 0.9693 - val_loss: 0.3664 - val_accuracy: 0.9107\n",
            "Epoch 16/32\n",
            "375/375 [==============================] - 198s 526ms/step - loss: 0.0979 - accuracy: 0.9731 - val_loss: 0.1586 - val_accuracy: 0.9584\n",
            "Epoch 17/32\n",
            "375/375 [==============================] - 203s 540ms/step - loss: 0.1490 - accuracy: 0.9638 - val_loss: 0.2785 - val_accuracy: 0.9340\n",
            "Epoch 18/32\n",
            "375/375 [==============================] - 198s 525ms/step - loss: 0.0831 - accuracy: 0.9775 - val_loss: 0.2952 - val_accuracy: 0.9301\n",
            "Epoch 19/32\n",
            "375/375 [==============================] - 199s 529ms/step - loss: 0.1283 - accuracy: 0.9661 - val_loss: 0.2417 - val_accuracy: 0.9428\n",
            "Epoch 20/32\n",
            "375/375 [==============================] - 201s 533ms/step - loss: 0.0920 - accuracy: 0.9752 - val_loss: 0.1989 - val_accuracy: 0.9567\n",
            "Epoch 21/32\n",
            "375/375 [==============================] - 202s 536ms/step - loss: 0.0764 - accuracy: 0.9795 - val_loss: 0.2713 - val_accuracy: 0.9445\n",
            "Epoch 22/32\n",
            "375/375 [==============================] - 194s 516ms/step - loss: 0.0906 - accuracy: 0.9783 - val_loss: 0.2076 - val_accuracy: 0.9562\n",
            "Epoch 23/32\n",
            "375/375 [==============================] - 193s 512ms/step - loss: 0.0809 - accuracy: 0.9791 - val_loss: 0.2540 - val_accuracy: 0.9589\n",
            "Epoch 24/32\n",
            "375/375 [==============================] - 199s 528ms/step - loss: 0.1035 - accuracy: 0.9751 - val_loss: 0.3863 - val_accuracy: 0.9229\n",
            "Epoch 25/32\n",
            "375/375 [==============================] - 195s 518ms/step - loss: 0.0792 - accuracy: 0.9807 - val_loss: 0.2396 - val_accuracy: 0.9567\n",
            "Epoch 26/32\n",
            "375/375 [==============================] - 196s 521ms/step - loss: 0.1051 - accuracy: 0.9777 - val_loss: 0.4443 - val_accuracy: 0.9201\n",
            "Epoch 27/32\n",
            "375/375 [==============================] - 197s 523ms/step - loss: 0.0964 - accuracy: 0.9768 - val_loss: 0.2196 - val_accuracy: 0.9473\n",
            "Epoch 28/32\n",
            "375/375 [==============================] - 199s 528ms/step - loss: 0.1076 - accuracy: 0.9766 - val_loss: 0.3434 - val_accuracy: 0.9334\n",
            "Epoch 29/32\n",
            "375/375 [==============================] - 200s 532ms/step - loss: 0.0923 - accuracy: 0.9785 - val_loss: 0.4309 - val_accuracy: 0.9267\n",
            "Epoch 30/32\n",
            "375/375 [==============================] - 199s 528ms/step - loss: 0.0594 - accuracy: 0.9855 - val_loss: 0.4227 - val_accuracy: 0.9256\n",
            "Epoch 31/32\n",
            "375/375 [==============================] - 199s 527ms/step - loss: 0.0775 - accuracy: 0.9807 - val_loss: 0.2997 - val_accuracy: 0.9428\n",
            "Epoch 32/32\n",
            "375/375 [==============================] - 200s 531ms/step - loss: 0.1023 - accuracy: 0.9787 - val_loss: 0.3551 - val_accuracy: 0.9312\n"
          ]
        }
      ]
    },
    {
      "cell_type": "code",
      "source": [
        "train_loss, train_acc = cnn.evaluate(training_set)\n",
        "print('Training accuracy:', train_acc)"
      ],
      "metadata": {
        "colab": {
          "base_uri": "https://localhost:8080/"
        },
        "id": "VszzoCGUn8N4",
        "outputId": "667be4ca-f88b-4cbc-8ad9-4293a7f9da6b"
      },
      "execution_count": null,
      "outputs": [
        {
          "output_type": "stream",
          "name": "stdout",
          "text": [
            "375/375 [==============================] - 64s 168ms/step - loss: 0.0301 - accuracy: 0.9927\n",
            "Training accuracy: 0.9926666617393494\n"
          ]
        }
      ]
    },
    {
      "cell_type": "code",
      "source": [
        "val_loss, val_acc = cnn.evaluate(validation_set)\n",
        "print('Validation accuracy:', val_acc)"
      ],
      "metadata": {
        "colab": {
          "base_uri": "https://localhost:8080/"
        },
        "id": "BTcNnogPoUwv",
        "outputId": "e1fbe4ae-257e-4b21-89c3-8dcddf01db85"
      },
      "execution_count": null,
      "outputs": [
        {
          "output_type": "stream",
          "name": "stdout",
          "text": [
            "46/46 [==============================] - 8s 150ms/step - loss: 0.3551 - accuracy: 0.9312\n",
            "Validation accuracy: 0.9311875700950623\n"
          ]
        }
      ]
    },
    {
      "cell_type": "code",
      "source": [
        "cnn.save('trained_model.h5')"
      ],
      "metadata": {
        "colab": {
          "base_uri": "https://localhost:8080/"
        },
        "id": "cr2hKGVJod1x",
        "outputId": "fc3b3256-998f-4c28-f35b-4965a2e27f33"
      },
      "execution_count": null,
      "outputs": [
        {
          "output_type": "stream",
          "name": "stderr",
          "text": [
            "/usr/local/lib/python3.10/dist-packages/keras/src/engine/training.py:3103: UserWarning: You are saving your model as an HDF5 file via `model.save()`. This file format is considered legacy. We recommend using instead the native Keras format, e.g. `model.save('my_model.keras')`.\n",
            "  saving_api.save_model(\n"
          ]
        }
      ]
    },
    {
      "cell_type": "code",
      "source": [
        "training_history.history"
      ],
      "metadata": {
        "colab": {
          "base_uri": "https://localhost:8080/"
        },
        "id": "UcAnc1jVoo6D",
        "outputId": "14f637c4-034f-48a3-8489-29ce82412009"
      },
      "execution_count": null,
      "outputs": [
        {
          "output_type": "execute_result",
          "data": {
            "text/plain": [
              "{'loss': [2.143317222595215,\n",
              "  0.7768251895904541,\n",
              "  0.45321154594421387,\n",
              "  0.3576970398426056,\n",
              "  0.26035308837890625,\n",
              "  0.2091718167066574,\n",
              "  0.20490849018096924,\n",
              "  0.17013244330883026,\n",
              "  0.14460480213165283,\n",
              "  0.1682664155960083,\n",
              "  0.13908496499061584,\n",
              "  0.13624724745750427,\n",
              "  0.12308287620544434,\n",
              "  0.12850244343280792,\n",
              "  0.10600238293409348,\n",
              "  0.09794755280017853,\n",
              "  0.14903348684310913,\n",
              "  0.0831066146492958,\n",
              "  0.12830720841884613,\n",
              "  0.09197301417589188,\n",
              "  0.07641705870628357,\n",
              "  0.09063389152288437,\n",
              "  0.08088527619838715,\n",
              "  0.10354848951101303,\n",
              "  0.07915864884853363,\n",
              "  0.10513366758823395,\n",
              "  0.09639032185077667,\n",
              "  0.1075725257396698,\n",
              "  0.0923047885298729,\n",
              "  0.05938580632209778,\n",
              "  0.07747627794742584,\n",
              "  0.10226142406463623],\n",
              " 'accuracy': [0.48080000281333923,\n",
              "  0.7508000135421753,\n",
              "  0.859000027179718,\n",
              "  0.8907999992370605,\n",
              "  0.9211999773979187,\n",
              "  0.93586665391922,\n",
              "  0.9412000179290771,\n",
              "  0.9505333304405212,\n",
              "  0.9592666625976562,\n",
              "  0.953000009059906,\n",
              "  0.963533341884613,\n",
              "  0.9606666564941406,\n",
              "  0.9655333161354065,\n",
              "  0.9643333554267883,\n",
              "  0.9693333506584167,\n",
              "  0.9731333255767822,\n",
              "  0.9638000130653381,\n",
              "  0.9775333404541016,\n",
              "  0.9660666584968567,\n",
              "  0.9751999974250793,\n",
              "  0.979533314704895,\n",
              "  0.9783333539962769,\n",
              "  0.9791333079338074,\n",
              "  0.9751333594322205,\n",
              "  0.9806666374206543,\n",
              "  0.9776666760444641,\n",
              "  0.9768000245094299,\n",
              "  0.9765999913215637,\n",
              "  0.9784666895866394,\n",
              "  0.9855333566665649,\n",
              "  0.9806666374206543,\n",
              "  0.9787333607673645],\n",
              " 'val_loss': [0.663434624671936,\n",
              "  0.5429983139038086,\n",
              "  0.24531547725200653,\n",
              "  0.2406143993139267,\n",
              "  0.34647712111473083,\n",
              "  0.16321343183517456,\n",
              "  0.3078029453754425,\n",
              "  0.2385384887456894,\n",
              "  0.22210553288459778,\n",
              "  0.17209675908088684,\n",
              "  0.4099460244178772,\n",
              "  0.27050894498825073,\n",
              "  0.2708438038825989,\n",
              "  0.17229372262954712,\n",
              "  0.3664412796497345,\n",
              "  0.15855704247951508,\n",
              "  0.27848997712135315,\n",
              "  0.29521796107292175,\n",
              "  0.24169550836086273,\n",
              "  0.1989448219537735,\n",
              "  0.27131274342536926,\n",
              "  0.2076212614774704,\n",
              "  0.2540229558944702,\n",
              "  0.3862624168395996,\n",
              "  0.23961658775806427,\n",
              "  0.4442688822746277,\n",
              "  0.2195974588394165,\n",
              "  0.3433816134929657,\n",
              "  0.4309106767177582,\n",
              "  0.42266541719436646,\n",
              "  0.29965126514434814,\n",
              "  0.35512691736221313],\n",
              " 'val_accuracy': [0.7824639081954956,\n",
              "  0.8263040781021118,\n",
              "  0.9178690314292908,\n",
              "  0.9245283007621765,\n",
              "  0.902330756187439,\n",
              "  0.9472808241844177,\n",
              "  0.9089900255203247,\n",
              "  0.9289678335189819,\n",
              "  0.9417313933372498,\n",
              "  0.9605993628501892,\n",
              "  0.9034405946731567,\n",
              "  0.9334073066711426,\n",
              "  0.9339622855186462,\n",
              "  0.9605993628501892,\n",
              "  0.9106548428535461,\n",
              "  0.9583795666694641,\n",
              "  0.9339622855186462,\n",
              "  0.9300776720046997,\n",
              "  0.9428412914276123,\n",
              "  0.9567147493362427,\n",
              "  0.9445061087608337,\n",
              "  0.9561598300933838,\n",
              "  0.9589345455169678,\n",
              "  0.9228634834289551,\n",
              "  0.9567147493362427,\n",
              "  0.9200887680053711,\n",
              "  0.9472808241844177,\n",
              "  0.9334073066711426,\n",
              "  0.9267480373382568,\n",
              "  0.9256381988525391,\n",
              "  0.9428412914276123,\n",
              "  0.9311875700950623]}"
            ]
          },
          "metadata": {},
          "execution_count": 58
        }
      ]
    },
    {
      "cell_type": "code",
      "source": [
        "import json\n",
        "with open('training_hist.json','w') as f:\n",
        "  json.dump(training_history.history,f)"
      ],
      "metadata": {
        "id": "Y_JHpIQ1oyuN"
      },
      "execution_count": null,
      "outputs": []
    },
    {
      "cell_type": "code",
      "source": [
        "print(training_history.history.keys())"
      ],
      "metadata": {
        "colab": {
          "base_uri": "https://localhost:8080/"
        },
        "id": "AXq0akjko5fc",
        "outputId": "9f08cf82-e58b-4727-a221-229dda875495"
      },
      "execution_count": null,
      "outputs": [
        {
          "output_type": "stream",
          "name": "stdout",
          "text": [
            "dict_keys(['loss', 'accuracy', 'val_loss', 'val_accuracy'])\n"
          ]
        }
      ]
    },
    {
      "cell_type": "code",
      "source": [
        "print(\"Validation set Accuracy: {} %\".format(training_history.history['val_accuracy'][-1]*100))"
      ],
      "metadata": {
        "colab": {
          "base_uri": "https://localhost:8080/"
        },
        "id": "mX9OtoEko6-n",
        "outputId": "ce22127c-c864-4c9f-f855-746d1b83d1fb"
      },
      "execution_count": null,
      "outputs": [
        {
          "output_type": "stream",
          "name": "stdout",
          "text": [
            "Validation set Accuracy: 93.11875700950623 %\n"
          ]
        }
      ]
    },
    {
      "cell_type": "code",
      "source": [
        "epochs = [i for i in range(1,33)]\n",
        "plt.plot(epochs,training_history.history['accuracy'],color='red')\n",
        "plt.xlabel('No. of Epochs')\n",
        "plt.ylabel('Traiining Accuracy')\n",
        "plt.title('Visualization of Training Accuracy Result')\n",
        "plt.show()"
      ],
      "metadata": {
        "colab": {
          "base_uri": "https://localhost:8080/",
          "height": 472
        },
        "id": "50Q2fI7To-Or",
        "outputId": "894dfab6-fe13-4513-8e25-1d639f85860c"
      },
      "execution_count": null,
      "outputs": [
        {
          "output_type": "display_data",
          "data": {
            "text/plain": [
              "<Figure size 640x480 with 1 Axes>"
            ],
            "image/png": "[encoded data removed]"
          },
          "metadata": {}
        }
      ]
    },
    {
      "cell_type": "code",
      "source": [
        "plt.plot(epochs,training_history.history['val_accuracy'],color='blue')\n",
        "plt.xlabel('No. of Epochs')\n",
        "plt.ylabel('Validation Accuracy')\n",
        "plt.title('Visualization of Validation Accuracy Result')\n",
        "plt.show()"
      ],
      "metadata": {
        "colab": {
          "base_uri": "https://localhost:8080/",
          "height": 472
        },
        "id": "gwUkG3lspESC",
        "outputId": "a86f2f37-244e-43d9-c9f8-b5ccc2695dae"
      },
      "execution_count": null,
      "outputs": [
        {
          "output_type": "display_data",
          "data": {
            "text/plain": [
              "<Figure size 640x480 with 1 Axes>"
            ],
            "image/png": "[encoded data removed]"
          },
          "metadata": {}
        }
      ]
    },
    {
      "cell_type": "code",
      "source": [
        "test_set = tf.keras.utils.image_dataset_from_directory(\n",
        "    '/content/drive/MyDrive/Vegetable Images/test',\n",
        "    labels=\"inferred\",\n",
        "    label_mode=\"categorical\",\n",
        "    class_names=None,\n",
        "    color_mode=\"rgb\",\n",
        "    batch_size=32,\n",
        "    image_size=(64, 64),\n",
        "    shuffle=True,\n",
        "    seed=None,\n",
        "    validation_split=None,\n",
        "    subset=None,\n",
        "    interpolation=\"bilinear\",\n",
        "    follow_links=False,\n",
        "    crop_to_aspect_ratio=False\n",
        ")"
      ],
      "metadata": {
        "colab": {
          "base_uri": "https://localhost:8080/"
        },
        "id": "TiEDGzMxpMtF",
        "outputId": "e6ccc731-0545-47bb-b903-f9542ef003b4"
      },
      "execution_count": null,
      "outputs": [
        {
          "output_type": "stream",
          "name": "stdout",
          "text": [
            "Found 3000 files belonging to 15 classes.\n"
          ]
        }
      ]
    },
    {
      "cell_type": "code",
      "source": [
        "test_loss,test_acc = cnn.evaluate(test_set)\n",
        "print('Test accuracy:', test_acc)"
      ],
      "metadata": {
        "colab": {
          "base_uri": "https://localhost:8080/"
        },
        "id": "lJq7bOyUpXMY",
        "outputId": "3327a042-4426-4f91-cb45-ca90396767ba"
      },
      "execution_count": null,
      "outputs": [
        {
          "output_type": "stream",
          "name": "stdout",
          "text": [
            "94/94 [==============================] - 524s 5s/step - loss: 0.3326 - accuracy: 0.9380\n",
            "Test accuracy: 0.9380000233650208\n"
          ]
        }
      ]
    }
  ]
}